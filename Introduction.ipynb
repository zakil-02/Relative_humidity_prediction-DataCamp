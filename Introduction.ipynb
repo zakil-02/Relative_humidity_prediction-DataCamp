{
 "cells": [
  {
   "cell_type": "markdown",
   "metadata": {},
   "source": [
    "# RAMP on relative humidity prediction in Morocco\n",
    "\n",
    "*Zakaria Akil, Zakarya Elmimouni, Ahmed Khairaldin, Yassine Oj, Khadija slim*\n",
    "\n",
    "## Introduction\n",
    "\n",
    "Relative Humidity is a measure of how much moisture is in the air compared to the maximum amount it can hold at a given temperature. It is expressed as a percentage, where 100% means the air is fully saturated with water vapor and cannot hold any more, leading to possible condensation (such as dew or fog).\n",
    "\n",
    "The ability of air to hold moisture depends on temperature—warmer air can contain more water vapor, while cooler air holds less. This is why humidity often feels higher in warm weather, even if the actual amount of water vapor in the air hasn’t changed. For example, if the relative humidity is 50%, it means the air contains half the moisture it could potentially hold at that temperature. A high relative humidity (like 80–90%) makes the air feel damp and heavy, while a low relative humidity (like 20–30%) makes it feel dry, which can cause discomfort such as dry skin or irritation.\n",
    "\n",
    "\n",
    "### Why relative humidity in Morocco ?\n",
    "\n",
    "In Morocco, relative humidity plays a vital role in predicting droughts, managing water resources, and understanding climate variability. The country’s semi-arid and arid regions are highly sensitive to fluctuations in humidity, which affect soil moisture and crop yields. Low relative humidity accelerates evaporation from reservoirs and irrigation systems, intensifying water scarcity. In coastal and mountainous areas, humidity variations influence cloud formation and precipitation patterns, impacting agriculture and hydropower generation. By integrating relative humidity data into climate models, scientists and policymakers can better anticipate drought risks and optimize water management strategies to mitigate their effects.\n",
    "\n",
    "### Dataset\n",
    "\n",
    "Our data comes from the ERA5 data archive, which provides hourly estimates for a large number of atmospheric, ocean-wave, and land-surface quantities. We collected data on pressure levels from 2020 to the present (01/03/2025) for both public and private datasets.  \n",
    "\n",
    "Our dataset contains observations spaced 4 days apart within this period for geographical coordinates in Morocco and some adjacent land areas. The variables included in our dataset are:\n",
    "\n",
    "- **Temperature**:  \n",
    "  Temperature affects the saturation point of air, directly influencing relative humidity. Warmer air can hold more moisture, impacting humidity levels.\n",
    "\n",
    "- **Wind (`u-component`, `v-component`)**:  \n",
    "  Wind transports moisture and heat, influencing local humidity levels. Wind patterns determine moisture advection and drying effects in a region.\n",
    "\n",
    "- **Cloud Cover**:  \n",
    "  Clouds impact the radiation balance and surface evaporation, affecting local humidity levels.\n",
    "\n",
    "- **Vertical Velocity**:  \n",
    "  Vertical air movements influence condensation and evaporation processes, regulating relative humidity through adiabatic cooling and warming.\n",
    "\n",
    "- **Geopotential**:  \n",
    "  Geopotential height is related to atmospheric pressure and influences moisture transport and condensation processes.\n",
    "\n",
    "- **Ozone**:  \n",
    "  Ozone affects atmospheric temperature and stability, indirectly impacting humidity distribution.\n",
    "\n",
    "- **Vorticity**:  \n",
    "  Vorticity is an indicator of swirling air movements, which can redistribute moisture and influence humidity patterns.\n",
    "\n",
    "- **Divergence**:  \n",
    "  Wind divergence is related to the convergence and divergence of air masses, affecting humidity by regulating moisture fluxes in the atmosphere.\n",
    "\n",
    "- **Target variable**: relative_humidity\n",
    "\n",
    "\n",
    "### Table Structure:\n",
    "Each row in the table represents an observation at a given time, at a fixed pressure level (1000 hPa), and at a specific geographic position (`latitude`, `longitude`). The columns contain the values of the different variables.\n",
    "\n",
    "For the public dataset, we kept observations from 2020 until the end of 2022 as the training set and observations from 2023 as the test set. For the private data, we aim to predict relative humidity for the year 2024 and the beginning of 2025 using data from 2020 until the end of 2023 as the training set. The idea is that predicting relative humidity one year in advance is crucial for effective planning in various sectors, including agriculture, water resource management, and climate adaptation strategies.\n"
   ]
  },
  {
   "cell_type": "markdown",
   "metadata": {},
   "source": [
    "## Submission\n",
    "\n",
    "The goal of the RAMP is to predict the relative humidity at a specific coordinate at a future time instant, spaced 4 time steps apart. Here is an example of a scikit-learn pipeline to fit the training input data using a subset of the columns."
   ]
  },
  {
   "cell_type": "code",
   "execution_count": 17,
   "metadata": {},
   "outputs": [],
   "source": [
    "import numpy as np\n",
    "import pandas as pd\n",
    "\n",
    "from sklearn.preprocessing import FunctionTransformer\n",
    "from sklearn.compose import make_column_transformer\n",
    "from sklearn.pipeline import make_pipeline\n",
    "from sklearn.ensemble import RandomForestRegressor\n",
    "from sklearn.impute import SimpleImputer\n",
    "\n",
    "\n",
    "def extract_date_components(df):\n",
    "    df = df.copy()\n",
    "    df[\"valid_time\"] = pd.to_datetime(df[\"valid_time\"])\n",
    "    df[\"year\"] = df[\"valid_time\"].dt.year\n",
    "    df[\"month\"] = df[\"valid_time\"].dt.month\n",
    "    df[\"day\"] = df[\"valid_time\"].dt.day\n",
    "    \n",
    "    return df.drop(columns=[\"valid_time\"])\n",
    "\n",
    "datetime_transformer = FunctionTransformer(extract_date_components)\n",
    "\n",
    "cols = [\n",
    "    'latitude',\n",
    "    'longitude',\n",
    "    'temperature',\n",
    "    'divergence',\n",
    "    'u_component_wind',\n",
    "    'v_component_wind',\n",
    "    'cloud_cover'\n",
    "]\n",
    "\n",
    "transformer = make_column_transformer(\n",
    "    (datetime_transformer, [\"valid_time\"]),\n",
    "    ('passthrough', cols)\n",
    ")\n",
    "\n",
    "pipe = make_pipeline(\n",
    "    transformer,\n",
    "    SimpleImputer(strategy='mean'),\n",
    "    RandomForestRegressor(max_depth=5, n_estimators=10)\n",
    ")\n",
    "\n",
    "\n",
    "def get_estimator():\n",
    "    return pipe"
   ]
  },
  {
   "cell_type": "markdown",
   "metadata": {},
   "source": [
    "### Testing using a scikit-learn pipeline"
   ]
  },
  {
   "cell_type": "code",
   "execution_count": 18,
   "metadata": {},
   "outputs": [
    {
     "name": "stdout",
     "output_type": "stream",
     "text": [
      "[-134.18945296 -146.9081392 ]\n"
     ]
    }
   ],
   "source": [
    "from sklearn.model_selection import cross_val_score\n",
    "\n",
    "df = pd.read_csv(\"Data_extraction/data/public/train.csv\")\n",
    "X_df, y = df.drop(columns=[\"relative_humidity\"]), df[\"relative_humidity\"]\n",
    "\n",
    "scores = cross_val_score(get_estimator(), X_df, y, cv=2, scoring='neg_mean_squared_error')\n",
    "print(scores)"
   ]
  }
 ],
 "metadata": {
  "kernelspec": {
   "display_name": "base",
   "language": "python",
   "name": "python3"
  },
  "language_info": {
   "codemirror_mode": {
    "name": "ipython",
    "version": 3
   },
   "file_extension": ".py",
   "mimetype": "text/x-python",
   "name": "python",
   "nbconvert_exporter": "python",
   "pygments_lexer": "ipython3",
   "version": "3.12.3"
  }
 },
 "nbformat": 4,
 "nbformat_minor": 2
}
